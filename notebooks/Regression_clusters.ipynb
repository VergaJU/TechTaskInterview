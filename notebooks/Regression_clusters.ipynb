{
 "cells": [
  {
   "cell_type": "code",
   "execution_count": null,
   "id": "0036fd2b-ab03-4346-90ac-5966a27b011c",
   "metadata": {},
   "outputs": [],
   "source": [
    "import anndata as ad\n",
    "import pandas as pd\n",
    "import numpy as np\n",
    "from lifelines import KaplanMeierFitter\n",
    "from lifelines import CoxPHFitter\n",
    "import matplotlib.pyplot as plt\n",
    "import seaborn as sns\n",
    "import scanpy as sc\n",
    "import warnings\n",
    "warnings.filterwarnings('ignore')"
   ]
  },
  {
   "cell_type": "code",
   "execution_count": null,
   "id": "b696b4a7-2ae6-4f78-b08a-006074c58245",
   "metadata": {},
   "outputs": [],
   "source": [
    "adata= sc.read('../Data/dataset_annotated.h5ad')\n",
    "survival_data = adata.obs[['overall survival days', 'overall survival event', 'classification']].copy()\n",
    "survival_data.dropna(subset=['overall survival days', 'overall survival event', 'classification'], inplace=True)\n",
    "survival_data['overall survival event'] = survival_data['overall survival event'].astype(int) # Ensure event is 0 or 1\n",
    "\n",
    "print(f\"\\nPrepared survival data shape: {survival_data.shape}\")\n",
    "print(f\"Number of events in prepared data: {survival_data['overall survival event'].sum()}\")"
   ]
  },
  {
   "cell_type": "code",
   "execution_count": null,
   "id": "76069bdb-928e-4061-aee4-99b323f2d1a1",
   "metadata": {},
   "outputs": [],
   "source": [
    "# --- 3. Kaplan-Meier Survival Curves ---\n",
    "print(\"\\nPerforming Kaplan-Meier analysis...\")\n",
    "kmf = KaplanMeierFitter()\n",
    "\n",
    "plt.figure(figsize=(10, 7))\n",
    "ax = plt.subplot(111)\n",
    "\n",
    "# Plot KM curve for each cluster\n",
    "for cluster_name in sorted(survival_data['classification'].unique()): # Sorting for consistent color mapping\n",
    "    cluster_data = survival_data[survival_data['classification'] == cluster_name]\n",
    "    if len(cluster_data) > 0:\n",
    "        kmf.fit(cluster_data['overall survival days'], event_observed=cluster_data['overall survival event'], label=cluster_name)\n",
    "        kmf.plot(ax=ax, ci_show=False) # ci_show=False to avoid crowded plot\n",
    "\n",
    "plt.title('Overall Survival by Clusters')\n",
    "plt.xlabel('Days')\n",
    "plt.ylabel('Survival probability')\n",
    "plt.grid(True)\n",
    "plt.legend(loc='upper right') # Position legend as needed\n",
    "plt.ylim(0.7, 1.01) # Adjust y-axis limit based on typical survival range\n",
    "plt.tight_layout()\n",
    "plt.show()"
   ]
  },
  {
   "cell_type": "markdown",
   "id": "e51348fd-c61a-4a87-b578-0ce9d96cedb8",
   "metadata": {},
   "source": [
    "Figure 1: Estimated Overall Survival Probabilities by Gene Expression Clusters.\n",
    "\n",
    "This figure displays Kaplan-Meier curves illustrating the estimated overall survival probability over time for patients grouped by the six identified breast cancer gene expression clusters: Basal-G3, LumA-G2, LumB-G3, Her2-G2, Her2-G3, and Normal-G2.\n",
    "\n",
    "- X-axis: Represents the follow-up time from diagnosis or sample collection, shown in days.\n",
    "\n",
    "- Y-axis: Represents the estimated probability of overall survival, ranging from 1.0 (100% survival) down to approximately 0.7 (70% survival) within the shown timeframe.\n",
    "\n",
    "- Colored Lines: Each distinct line corresponds to one of the six clusters, differentiated by color and labeled in the legend. The vertical steps in each curve indicate time points at which an event (death) occurred within that specific cluster.\n",
    "\n",
    "Interpretation: The Kaplan-Meier curves reveal substantial heterogeneity in estimated overall survival across the identified molecular clusters. The Normal-G2 and LumA-G2 clusters demonstrate the most favorable estimated overall survival outcomes, with the highest survival probabilities maintained throughout the observation period. The Basal-G3 cluster shows the least favorable prognosis, with the steepest decline in estimated survival probability. The LumB-G3 cluster exhibits intermediate survival outcomes, better than the Basal and Her2 groups but worse than LumA-G2 and Normal-G2.\n",
    "\n",
    "Notably, among the Her2-classified clusters, the Her2-G2 cluster displays unexpectedly poor survival, with its curve falling consistently below the Her2-G3 cluster and tracking closely with the curve for the Basal-G3 cluster. This visual observation is counter-intuitive given that Grade 2 tumors typically have a better prognosis than Grade 3, and highlights that the molecular characteristics captured by this Her2-G2 cluster may contribute to a more aggressive clinical behavior than suggested by grade alone. These distinct survival profiles emphasize the prognostic relevance of the identified clusters and warrant further investigation into the biological underpinnings driving the poorer outcomes observed in Basal-G3 and this specific Her2-G2 cluster. Statistical analysis (e.g., Cox regression) is necessary to quantify the hazard differences and assess their significance."
   ]
  },
  {
   "cell_type": "code",
   "execution_count": null,
   "id": "f6f706bc-8a0f-4b56-bafa-6cb5d48d157f",
   "metadata": {},
   "outputs": [],
   "source": [
    "print(\"\\nPerforming Cox Regression...\")\n",
    "cox_data = survival_data.copy()\n",
    "\n",
    "# Create dummy variables for 'classification', ensuring 'Her2-G3' is the reference\n",
    "classification_dummies = pd.get_dummies(cox_data['classification'], prefix='cluster')\n",
    "\n",
    "# Check if the reference column exists before dropping\n",
    "ref_col_name = 'cluster_Her2-G3'\n",
    "if ref_col_name in classification_dummies.columns:\n",
    "    cox_data = cox_data.join(classification_dummies.drop(columns=[ref_col_name]))\n",
    "    print(f\"\\nDummy variables created with '{ref_col_name}' as the reference.\")\n",
    "else:\n",
    "    # Handle case where reference group might not be present in the filtered data\n",
    "    print(f\"\\nWarning: Reference cluster '{ref_col_name}' not found in the data. Cannot set it as reference.\")\n",
    "    # Decide how to proceed - either stop, or use a different reference, or add the column with zeros.\n",
    "    # For now, we'll proceed without dropping the reference column, which means lifelines will choose one automatically.\n",
    "    # You might need to adjust this based on your data.\n",
    "    cox_data = cox_data.join(classification_dummies)\n",
    "\n",
    "\n",
    "# Define duration and event columns for the fitter\n",
    "duration_col = 'overall survival days'\n",
    "event_col = 'overall survival event'\n",
    "\n",
    "# Identify predictor columns (all dummy columns)\n",
    "predictor_cols = classification_dummies.columns.drop(ref_col_name, errors='ignore').tolist()\n",
    "\n",
    "# Instantiate and fit the CoxPHFitter\n",
    "cph = CoxPHFitter()\n",
    "\n",
    "\n",
    "cph.fit(cox_data[predictor_cols + [duration_col, event_col]],\n",
    "        duration_col=duration_col,\n",
    "        event_col=event_col)\n",
    "\n",
    "# --- 5. Print Cox Model Summary ---\n",
    "print(\"\\nCox Proportional Hazards Model Summary:\")\n",
    "# --- 6. Plot Cox Model Hazard Ratios (log scale) ---\n",
    "# Plotting log(HR) with 95% CIs\n",
    "# summary_df = cph.summary.copy()\n",
    "# # Ensure we only plot the coefficients for the cluster dummies\n",
    "# summary_df = summary_df[summary_df.index.str.startswith('cluster')]\n",
    "cph.print_summary()"
   ]
  },
  {
   "cell_type": "code",
   "execution_count": null,
   "id": "996e761c-ecc1-45d2-ac18-2e7d774f3c89",
   "metadata": {},
   "outputs": [],
   "source": [
    "cph.plot()"
   ]
  },
  {
   "cell_type": "markdown",
   "id": "88107d34-14c2-46ec-8f89-6ea61aad12f7",
   "metadata": {},
   "source": [
    "Figure 2: Forest Plot of Hazard Ratios for Overall Survival by Cluster, Referenced to Her2-G3.\n",
    "\n",
    "This figure displays the estimated log of the Hazard Ratio (log(HR)) and corresponding 95% confidence intervals for overall survival, comparing each identified cluster to the Her2-G3 cluster. The results were derived from a Cox Proportional Hazards model fitted to the breast cancer cohort (n=3273 observations, 336 events). The Her2-G3 cluster served as the reference group in this model.\n",
    "\n",
    "- X-axis: Represents the estimated log(HR) and its 95% confidence interval. The vertical dashed line at 0 on the log(HR) scale corresponds to a Hazard Ratio of 1 (exp(0)=1), indicating no difference in hazard compared to the Her2-G3 reference group. Points or intervals to the right of the line (positive log(HR)) indicate an increased hazard (higher risk of death), while points or intervals to the left (negative log(HR)) indicate a decreased hazard (lower risk of death).\n",
    "\n",
    "- Y-axis: Lists the other identified clusters, representing the terms in the Cox model (cluster_Basal-G3, cluster_Her2-G2, etc.).\n",
    "\n",
    "- Square Markers: Indicate the point estimate of the log(HR) for each cluster relative to the Her2-G3 reference group.\n",
    "\n",
    "- Horizontal Lines: Represent the 95% confidence interval for the estimated log(HR). Confidence intervals that do not cross the vertical line at 0 indicate a statistically significant difference in hazard (typically at alpha=0.05) compared to the reference group.\n",
    "\n",
    "Interpretation: The Cox model results show significant differences in overall survival hazard among several clusters compared to Her2-G3. The Basal-G3 cluster exhibits a significantly increased hazard (log(HR) 0.53, 95% CI: 0.18-0.88, p<0.005), indicating poorer overall survival compared to Her2-G3. Conversely, the LumA-G2 (log(HR) -0.52, 95% CI: -0.83--0.20, p<0.005), LumB-G3 (log(HR) -0.41, 95% CI: -0.78--0.04, p=0.03), and Normal-G2 (log(HR) -0.72, 95% CI: -1.09--0.35, p<0.005) clusters all show significantly decreased hazard (better overall survival) compared to Her2-G3. The Her2-G2 cluster shows an estimated log(HR) of 0.41 (95% CI: -0.19-1.01), indicating a trend towards higher hazard than Her2-G3, but the 95% confidence interval crosses 0, meaning this difference is not statistically significant (p=0.18) in this model. This aligns with the observation from the Kaplan-Meier plot where Her2-G2 survival tracked similarly to Basal-G3 but did not show a statistically distinct hazard from Her2-G3 in the Cox model. The overall Cox model demonstrates good predictive power (concordance = 0.61) and is highly statistically significant (Likelihood ratio test p < 0.005)."
   ]
  }
 ],
 "metadata": {
  "kernelspec": {
   "display_name": "Python 3 (ipykernel)",
   "language": "python",
   "name": "python3"
  },
  "language_info": {
   "codemirror_mode": {
    "name": "ipython",
    "version": 3
   },
   "file_extension": ".py",
   "mimetype": "text/x-python",
   "name": "python",
   "nbconvert_exporter": "python",
   "pygments_lexer": "ipython3",
   "version": "3.12.3"
  }
 },
 "nbformat": 4,
 "nbformat_minor": 5
}
