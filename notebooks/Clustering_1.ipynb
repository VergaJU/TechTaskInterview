{
 "cells": [
  {
   "cell_type": "code",
   "execution_count": null,
   "id": "d4c2ded4-c800-49f7-bf02-a5975b767c82",
   "metadata": {},
   "outputs": [],
   "source": [
    "import scanpy as sc\n",
    "import pandas as pd\n",
    "import numpy as np\n",
    "import matplotlib.pyplot as plt\n",
    "import seaborn as sns"
   ]
  },
  {
   "cell_type": "code",
   "execution_count": null,
   "id": "e856394d-23c5-4334-a015-91a2fd0fb25e",
   "metadata": {},
   "outputs": [],
   "source": [
    "adata = sc.read('../Data/adata_with_embeddings.h5ad')"
   ]
  },
  {
   "cell_type": "code",
   "execution_count": null,
   "id": "d8bb4cff-5748-4dd0-8aae-8660456e678b",
   "metadata": {},
   "outputs": [],
   "source": [
    "adata"
   ]
  },
  {
   "cell_type": "code",
   "execution_count": null,
   "id": "fc99b10a-5f5e-4dae-9e19-f779c6e29c5c",
   "metadata": {},
   "outputs": [],
   "source": [
    "sc.pp.neighbors(adata, use_rep='X_ae', n_neighbors=10)"
   ]
  },
  {
   "cell_type": "code",
   "execution_count": null,
   "id": "de8b8151-7949-4f34-8edb-3c5ea28925b5",
   "metadata": {},
   "outputs": [],
   "source": [
    "sc.tl.umap(adata, min_dist=.1, spread=.5)"
   ]
  },
  {
   "cell_type": "code",
   "execution_count": null,
   "id": "779a3750-c618-4679-88c9-57fd5accb23c",
   "metadata": {},
   "outputs": [],
   "source": [
    "sc.pl.umap(adata, color='pam50 subtype')"
   ]
  },
  {
   "cell_type": "code",
   "execution_count": null,
   "id": "7cb200b2-9f56-4761-bdc0-efecdb10e1b8",
   "metadata": {},
   "outputs": [],
   "source": [
    "sc.pl.umap(adata, color='nhg')"
   ]
  },
  {
   "cell_type": "code",
   "execution_count": null,
   "id": "becfbf11-57f5-41e6-88b5-7a3f6b7e32b9",
   "metadata": {},
   "outputs": [],
   "source": [
    "sc.pl.umap(adata, color='er status')"
   ]
  },
  {
   "cell_type": "code",
   "execution_count": null,
   "id": "f093c45d-5472-4cf9-ad5c-9d20aaf1eda1",
   "metadata": {},
   "outputs": [],
   "source": [
    "sc.pl.umap(adata, color='pgr status')"
   ]
  },
  {
   "cell_type": "code",
   "execution_count": null,
   "id": "b509b33b-fbd2-4e7d-ad37-c62fa677100c",
   "metadata": {},
   "outputs": [],
   "source": [
    "sc.pl.umap(adata, color='her2 status')"
   ]
  },
  {
   "cell_type": "code",
   "execution_count": null,
   "id": "cd88d98c-089a-42b6-a397-7d88265fa5d1",
   "metadata": {},
   "outputs": [],
   "source": [
    "sc.pl.umap(adata, color='ki67 status')"
   ]
  },
  {
   "cell_type": "code",
   "execution_count": null,
   "id": "9d016351-2757-4b44-8049-6e32eb4b4d9a",
   "metadata": {},
   "outputs": [],
   "source": [
    "sc.tl.leiden(adata,flavor=\"igraph\", n_iterations=2, resolution=.5)"
   ]
  },
  {
   "cell_type": "code",
   "execution_count": null,
   "id": "571050d9-1eae-4e67-a8a7-055fdf846ed8",
   "metadata": {},
   "outputs": [],
   "source": [
    "sc.pl.umap(adata,color='leiden')"
   ]
  },
  {
   "cell_type": "code",
   "execution_count": null,
   "id": "30a71955-f001-486c-839d-e99ae6847e94",
   "metadata": {},
   "outputs": [],
   "source": [
    "# Get most expressed genes per cluster\n",
    "adata.raw = adata  # if needed\n",
    "mean_expr = pd.DataFrame(adata.raw.X, columns=adata.raw.var_names).groupby(adata.obs['leiden']).mean()\n",
    "top_genes = []\n",
    "\n",
    "# Get top N expressed genes per cluster\n",
    "N = 5\n",
    "for cluster in mean_expr.index:\n",
    "    top = mean_expr.loc[cluster].sort_values(ascending=False).head(N).index.tolist()\n",
    "    print(f\"{cluster}: {top}\")\n",
    "    top_genes.extend(top)\n",
    "\n",
    "# Remove duplicates (genes that appear in multiple clusters)\n",
    "top_genes = list(dict.fromkeys(top_genes))"
   ]
  },
  {
   "cell_type": "code",
   "execution_count": null,
   "id": "d980905f-4e9e-45c4-83e6-7cd6597f9f83",
   "metadata": {},
   "outputs": [],
   "source": [
    "sc.tl.rank_genes_groups(adata, groupby='leiden', method='wilcoxon')\n",
    "sc.tl.dendrogram(adata, groupby='leiden', use_rep='X_ae')\n",
    "sc.pl.rank_genes_groups_matrixplot(\n",
    "    adata,\n",
    "    groupby='leiden',\n",
    "    use_raw=True,  # or False depending on your pipeline\n",
    "    cmap='viridis',\n",
    "    dendrogram=True\n",
    ")\n"
   ]
  },
  {
   "cell_type": "code",
   "execution_count": null,
   "id": "f14411e8-e03d-4674-9df5-9fdfb4c345db",
   "metadata": {},
   "outputs": [],
   "source": [
    "sc.get.rank_genes_groups_df(adata, group='0').head()"
   ]
  },
  {
   "cell_type": "code",
   "execution_count": null,
   "id": "d66f3f2c-964f-44ce-b1fe-2740a2957db8",
   "metadata": {},
   "outputs": [],
   "source": []
  }
 ],
 "metadata": {
  "kernelspec": {
   "display_name": "Python 3 (ipykernel)",
   "language": "python",
   "name": "python3"
  },
  "language_info": {
   "codemirror_mode": {
    "name": "ipython",
    "version": 3
   },
   "file_extension": ".py",
   "mimetype": "text/x-python",
   "name": "python",
   "nbconvert_exporter": "python",
   "pygments_lexer": "ipython3",
   "version": "3.10.11"
  }
 },
 "nbformat": 4,
 "nbformat_minor": 5
}
