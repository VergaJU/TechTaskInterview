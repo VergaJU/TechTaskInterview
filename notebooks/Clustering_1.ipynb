{
 "cells": [
  {
   "cell_type": "code",
   "execution_count": null,
   "id": "d4c2ded4-c800-49f7-bf02-a5975b767c82",
   "metadata": {},
   "outputs": [],
   "source": [
    "import scanpy as sc\n",
    "import pandas as pd\n",
    "import numpy as np\n",
    "import matplotlib.pyplot as plt\n",
    "import seaborn as sns\n",
    "from IPython.display import display, Markdown, HTML\n",
    "import gseapy as gp\n",
    "from gseapy import Msigdb\n",
    "from gseapy import GSEA\n",
    "from gseapy import dotplot\n",
    "import warnings\n",
    "warnings.filterwarnings('ignore')"
   ]
  },
  {
   "cell_type": "code",
   "execution_count": null,
   "id": "e856394d-23c5-4334-a015-91a2fd0fb25e",
   "metadata": {},
   "outputs": [],
   "source": [
    "adata = sc.read('../Data/adata_with_embeddings.h5ad')"
   ]
  },
  {
   "cell_type": "code",
   "execution_count": null,
   "id": "d8bb4cff-5748-4dd0-8aae-8660456e678b",
   "metadata": {},
   "outputs": [],
   "source": [
    "adata"
   ]
  },
  {
   "cell_type": "code",
   "execution_count": null,
   "id": "a6523a12-3e0a-421d-b51b-c009ca5f9389",
   "metadata": {},
   "outputs": [],
   "source": [
    "# load pam50 and get top 10 genes per subtype as markers\n",
    "pam50=pd.read_csv('../Data/pam50.tsv',sep='\\t',index_col=0)\n",
    "markers = {}\n",
    "\n",
    "for subtype in pam50.columns:\n",
    "    markers[subtype]=pam50.sort_values(by=subtype,ascending=False).index[:10].to_list()"
   ]
  },
  {
   "cell_type": "code",
   "execution_count": null,
   "id": "fc99b10a-5f5e-4dae-9e19-f779c6e29c5c",
   "metadata": {},
   "outputs": [],
   "source": [
    "sc.pp.neighbors(adata, use_rep='X_ae', n_neighbors=7, knn=True, metric='cosine')"
   ]
  },
  {
   "cell_type": "code",
   "execution_count": null,
   "id": "de8b8151-7949-4f34-8edb-3c5ea28925b5",
   "metadata": {},
   "outputs": [],
   "source": [
    "sc.tl.umap(adata, min_dist=.1)#, spread=.5)\n",
    "sc.tl.leiden(adata,flavor=\"igraph\", n_iterations=2, resolution=.7)\n",
    "\n"
   ]
  },
  {
   "cell_type": "code",
   "execution_count": null,
   "id": "38730b7a-a203-4507-8302-c67320ef4a2e",
   "metadata": {},
   "outputs": [],
   "source": [
    "for k,v in markers.items():\n",
    "    sc.tl.score_genes(adata, gene_list=v, score_name=k)"
   ]
  },
  {
   "cell_type": "code",
   "execution_count": null,
   "id": "779a3750-c618-4679-88c9-57fd5accb23c",
   "metadata": {},
   "outputs": [],
   "source": [
    "sc.pl.umap(adata, color=list(markers.keys())+['pam50 subtype', 'leiden','nhg'])"
   ]
  },
  {
   "cell_type": "code",
   "execution_count": null,
   "id": "3ecc50ba-3509-4f49-9d62-47aaf3a2889c",
   "metadata": {},
   "outputs": [],
   "source": [
    "sc.tl.rank_genes_groups(adata, groupby='leiden', method='wilcoxon')\n",
    "sc.tl.dendrogram(adata, groupby='leiden', use_rep='X_ae')"
   ]
  },
  {
   "cell_type": "code",
   "execution_count": null,
   "id": "5dddc72f-1398-4f89-842e-dd2833553b3d",
   "metadata": {},
   "outputs": [],
   "source": [
    "from matplotlib.gridspec import GridSpec\n",
    "clusters_df=sc.get.obs_df(adata, keys=['leiden','pam50 subtype','nhg']+list(markers.keys()))\n",
    "msig = Msigdb()\n",
    "gmt = msig.get_gmt(category='h.all', dbver=\"2025.1.Hs\")\n",
    "\n",
    "def plot_bars(tmp, ax):\n",
    "    col1_props = tmp['pam50 subtype'].value_counts(normalize=True)\n",
    "    col2_props = tmp['nhg'].value_counts(normalize=True)\n",
    "    proportions = pd.concat([col1_props, col2_props], axis=1, keys=['pam50 subtype', 'nhg']).fillna(0)\n",
    "    proportions.T.plot(\n",
    "        kind='bar',\n",
    "        stacked=True,\n",
    "        colormap='tab20',\n",
    "        edgecolor='black',\n",
    "        ax=ax\n",
    "    )\n",
    "\n",
    "    ax.legend()\n",
    "    ax.tick_params(rotation=0)\n",
    "    ax.set_ylabel('Proportion')\n",
    "    return ax\n",
    "\n",
    "\n",
    "def plot_violin(tmp,ax):\n",
    "    ax=sns.violinplot(tmp[list(markers.keys())],ax=ax)\n",
    "    ax.tick_params(rotation=45)\n",
    "    return ax\n",
    "\n",
    "\n",
    "def pathways(cluster,ax):\n",
    "    expr = sc.get.rank_genes_groups_df(adata, group=cluster)[['names','scores']]\n",
    "    expr.columns = ['gene_name', 'score'] \n",
    "    pre_res = gp.prerank(\n",
    "        rnk=expr,  # DataFrame or path to .rnk file\n",
    "        gene_sets=gmt,  # Or 'KEGG_2021_Human', 'Reactome_2022', etc.\n",
    "        permutation_num=1000,  # recommended ≥1000\n",
    "        seed=42,\n",
    "        processes=4  # parallelization\n",
    "    )\n",
    "\n",
    "    ax = dotplot(pre_res.res2d,\n",
    "             column=\"FDR q-val\",\n",
    "             cmap=plt.cm.viridis,\n",
    "             size=4, # adjust dot size\n",
    "             cutoff=0.25, show_ring=False,ax=ax)\n",
    "    return ax\n",
    "\n",
    "\n",
    "def get_genes(cluster):\n",
    "    df=sc.get.rank_genes_groups_df(adata, group=cluster)\n",
    "\n",
    "    df = pd.concat([df.head(),df.tail()],axis=0)\n",
    "    return df\n",
    "\n",
    "\n",
    "def plot_cluster_features(cluster):\n",
    "    \n",
    "    tmp=clusters_df[clusters_df['leiden']==cluster]\n",
    "\n",
    "\n",
    "    fig = plt.figure(layout=\"constrained\", figsize=(10,10))\n",
    "    subfigs = fig.subfigures(3,1, wspace=0.07)\n",
    "    ax0 = subfigs[0].subplots(1, 2)\n",
    "    ax0[0]=plot_bars(tmp,ax0[0])\n",
    "    ax0[1]=plot_violin(tmp,ax0[1])\n",
    "\n",
    "    ax1 = subfigs[1].subplots(1, 3)\n",
    "    sc.pl.umap(adata,color='leiden',show=False, ax=ax1[0], legend_loc='on data')\n",
    "    sc.pl.umap(adata,color='pam50 subtype',show=False, ax=ax1[1])\n",
    "    sc.pl.umap(adata,color='nhg',show=False, ax=ax1[2])\n",
    "\n",
    "    ax2 = subfigs[2].subplots(1,1)\n",
    "    ax2=pathways(cluster,ax2)\n",
    "\n",
    "\n",
    "    display(Markdown(f\"## Cluster {cluster}\"))\n",
    "    display(fig)\n",
    "\n",
    "    # display(HTML(get_genes(cluster).to_html()))\n",
    "    \n",
    "    plt.close()\n",
    "\n",
    "\n",
    "    \n",
    "\n",
    "    "
   ]
  },
  {
   "cell_type": "markdown",
   "id": "318dc9ac-c645-4b50-9873-29cd8a734f09",
   "metadata": {},
   "source": [
    "# Annotate clusters"
   ]
  },
  {
   "cell_type": "code",
   "execution_count": null,
   "id": "47a434b2-e2c8-4128-a6c8-826d83a73886",
   "metadata": {},
   "outputs": [],
   "source": [
    "markers_dict={}\n",
    "clusters=adata.obs['leiden'].cat.categories\n",
    "plot_cluster_features(clusters[0])"
   ]
  },
  {
   "cell_type": "code",
   "execution_count": null,
   "id": "ac6a273f-69ce-41d7-a235-780b689d4ea7",
   "metadata": {},
   "outputs": [],
   "source": [
    "markers_dict[clusters[0]]='Basal-G3_inflammed'"
   ]
  },
  {
   "cell_type": "code",
   "execution_count": null,
   "id": "0b97ff5a-8101-4f60-ab6d-f04c86b6e3dd",
   "metadata": {},
   "outputs": [],
   "source": [
    "plot_cluster_features(clusters[1])"
   ]
  },
  {
   "cell_type": "code",
   "execution_count": null,
   "id": "00f1edea-d2d9-404a-9c40-253ac248049f",
   "metadata": {},
   "outputs": [],
   "source": [
    "markers_dict[clusters[1]]='LumA-G2_fibrosis'"
   ]
  },
  {
   "cell_type": "code",
   "execution_count": null,
   "id": "7ad1c4be-63a9-4b30-8830-560f75ab05a5",
   "metadata": {},
   "outputs": [],
   "source": [
    "plot_cluster_features(clusters[2])"
   ]
  },
  {
   "cell_type": "code",
   "execution_count": null,
   "id": "2dcae34d-d564-4de2-bea3-ced2754b775b",
   "metadata": {},
   "outputs": [],
   "source": [
    "markers_dict[clusters[2]]='LumA-G2_ER'"
   ]
  },
  {
   "cell_type": "code",
   "execution_count": null,
   "id": "a166ab1b-f4ca-4d6d-9b59-77cc504ba982",
   "metadata": {},
   "outputs": [],
   "source": [
    "plot_cluster_features(clusters[3])"
   ]
  },
  {
   "cell_type": "code",
   "execution_count": null,
   "id": "1987dba3-63f1-40c8-999e-ed45a9e2137f",
   "metadata": {},
   "outputs": [],
   "source": [
    "markers_dict[clusters[3]]='Normal-G2_fibrosis'"
   ]
  },
  {
   "cell_type": "code",
   "execution_count": null,
   "id": "10119cb8-e0e4-478f-8572-7529e57aa0aa",
   "metadata": {},
   "outputs": [],
   "source": [
    "plot_cluster_features(clusters[4])"
   ]
  },
  {
   "cell_type": "code",
   "execution_count": null,
   "id": "d997d172-85c4-409d-a69e-a380ba2326d5",
   "metadata": {},
   "outputs": [],
   "source": [
    "markers_dict[clusters[4]]='LumA-G2_immune-suppressed'"
   ]
  },
  {
   "cell_type": "code",
   "execution_count": null,
   "id": "32321424-609c-4f25-bce9-0d2f184cf24c",
   "metadata": {},
   "outputs": [],
   "source": [
    "plot_cluster_features(clusters[5])"
   ]
  },
  {
   "cell_type": "code",
   "execution_count": null,
   "id": "eb9473bb-0d9b-4c9d-8caf-714055a1815e",
   "metadata": {},
   "outputs": [],
   "source": [
    "markers_dict[clusters[5]]='Normal-G2_immune-suppressed'"
   ]
  },
  {
   "cell_type": "code",
   "execution_count": null,
   "id": "1bbd10a1-2759-4a9f-817f-90d0001d6463",
   "metadata": {},
   "outputs": [],
   "source": [
    "plot_cluster_features(clusters[6])"
   ]
  },
  {
   "cell_type": "code",
   "execution_count": null,
   "id": "94796be0-b55c-4deb-9036-b4e748982737",
   "metadata": {},
   "outputs": [],
   "source": [
    "markers_dict[clusters[6]]='LumB-G3_immune-suppressed'"
   ]
  },
  {
   "cell_type": "code",
   "execution_count": null,
   "id": "b2ce6583-21d8-4216-bd28-268bc936b168",
   "metadata": {},
   "outputs": [],
   "source": [
    "plot_cluster_features(clusters[7])"
   ]
  },
  {
   "cell_type": "code",
   "execution_count": null,
   "id": "c35c1b2e-0fed-4ecb-96a3-b0c70408a491",
   "metadata": {},
   "outputs": [],
   "source": [
    "markers_dict[clusters[7]]='Her2-G3_ROS'"
   ]
  },
  {
   "cell_type": "code",
   "execution_count": null,
   "id": "ba5d7807-2326-4b8e-9654-1dc4e479f285",
   "metadata": {},
   "outputs": [],
   "source": [
    "plot_cluster_features(clusters[8])"
   ]
  },
  {
   "cell_type": "code",
   "execution_count": null,
   "id": "d2fe445f-5dc8-4f05-a9e9-384fcda72c49",
   "metadata": {},
   "outputs": [],
   "source": [
    "markers_dict[clusters[8]]='LumA-G2_immune-suppressed'"
   ]
  },
  {
   "cell_type": "code",
   "execution_count": null,
   "id": "9bbd37a5-53a0-49a5-a645-93a2ea94e192",
   "metadata": {},
   "outputs": [],
   "source": [
    "plot_cluster_features(clusters[9])"
   ]
  },
  {
   "cell_type": "code",
   "execution_count": null,
   "id": "2e8b8698-a317-4806-a09e-22338beaf224",
   "metadata": {},
   "outputs": [],
   "source": [
    "markers_dict[clusters[9]]='Her2-G2_ROS'"
   ]
  },
  {
   "cell_type": "code",
   "execution_count": null,
   "id": "392f0b1e-e28f-43e2-b9c4-fffb6d6ba0fe",
   "metadata": {},
   "outputs": [],
   "source": [
    "plot_cluster_features(clusters[10])"
   ]
  },
  {
   "cell_type": "code",
   "execution_count": null,
   "id": "d3499711-c9af-43b7-bc01-c9bd1a51a219",
   "metadata": {},
   "outputs": [],
   "source": [
    "markers_dict[clusters[10]]='LumA-G2_immune-suppressed'"
   ]
  },
  {
   "cell_type": "code",
   "execution_count": null,
   "id": "f4e76086-37f0-4bbd-be90-8f9c2c288786",
   "metadata": {},
   "outputs": [],
   "source": [
    "adata.obs['clusternames']=adata.obs['leiden'].replace(markers_dict)"
   ]
  },
  {
   "cell_type": "code",
   "execution_count": null,
   "id": "aa8e9a8b-425a-4a0e-ab92-4206677c6787",
   "metadata": {},
   "outputs": [],
   "source": [
    "adata.obs['classification']=adata.obs['leiden'].replace(markers_dict).str.split('_').str[0]"
   ]
  },
  {
   "cell_type": "code",
   "execution_count": null,
   "id": "5d110510-c481-48d1-84aa-dba7a01bbb38",
   "metadata": {},
   "outputs": [],
   "source": [
    "adata.obs['pathway']=adata.obs['leiden'].replace(markers_dict).str.split('_').str[1]"
   ]
  },
  {
   "cell_type": "code",
   "execution_count": null,
   "id": "d4747fb1-c3ab-4327-bb89-ffd4e5233005",
   "metadata": {},
   "outputs": [],
   "source": [
    "sc.pl.umap(adata, color=['clusternames','classification','pathway'],ncols=1)"
   ]
  },
  {
   "cell_type": "code",
   "execution_count": null,
   "id": "8226541d-1412-454d-a6e2-8a96a28452de",
   "metadata": {},
   "outputs": [],
   "source": [
    "adata.write('../Data/dataset_annotated.h5ad')"
   ]
  }
 ],
 "metadata": {
  "kernelspec": {
   "display_name": "Python 3 (ipykernel)",
   "language": "python",
   "name": "python3"
  },
  "language_info": {
   "codemirror_mode": {
    "name": "ipython",
    "version": 3
   },
   "file_extension": ".py",
   "mimetype": "text/x-python",
   "name": "python",
   "nbconvert_exporter": "python",
   "pygments_lexer": "ipython3",
   "version": "3.12.3"
  }
 },
 "nbformat": 4,
 "nbformat_minor": 5
}
