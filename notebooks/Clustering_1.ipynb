{
 "cells": [
  {
   "cell_type": "code",
   "execution_count": null,
   "id": "d4c2ded4-c800-49f7-bf02-a5975b767c82",
   "metadata": {},
   "outputs": [],
   "source": [
    "import scanpy as sc\n",
    "import pandas as pd\n",
    "import numpy as np\n",
    "import matplotlib.pyplot as plt\n",
    "import seaborn as sns"
   ]
  },
  {
   "cell_type": "code",
   "execution_count": null,
   "id": "e856394d-23c5-4334-a015-91a2fd0fb25e",
   "metadata": {},
   "outputs": [],
   "source": [
    "adata = sc.read('../Data/adata_with_embeddings.h5ad')"
   ]
  },
  {
   "cell_type": "code",
   "execution_count": null,
   "id": "d8bb4cff-5748-4dd0-8aae-8660456e678b",
   "metadata": {},
   "outputs": [],
   "source": [
    "adata"
   ]
  },
  {
   "cell_type": "code",
   "execution_count": null,
   "id": "fc99b10a-5f5e-4dae-9e19-f779c6e29c5c",
   "metadata": {},
   "outputs": [],
   "source": [
    "sc.pp.neighbors(adata, use_rep='X_ae', n_neighbors=7, knn=True)"
   ]
  },
  {
   "cell_type": "code",
   "execution_count": null,
   "id": "de8b8151-7949-4f34-8edb-3c5ea28925b5",
   "metadata": {},
   "outputs": [],
   "source": [
    "sc.tl.umap(adata, min_dist=.1)#, spread=.5)"
   ]
  },
  {
   "cell_type": "code",
   "execution_count": null,
   "id": "779a3750-c618-4679-88c9-57fd5accb23c",
   "metadata": {},
   "outputs": [],
   "source": [
    "sc.pl.umap(adata, color=['pam50 subtype','nhg'])"
   ]
  },
  {
   "cell_type": "code",
   "execution_count": null,
   "id": "cb50aa2d-ef9f-4412-836e-bdb04d1fe453",
   "metadata": {},
   "outputs": [],
   "source": [
    "sc.tl.leiden(adata,flavor=\"igraph\", n_iterations=2, resolution=.7)\n",
    "sc.pl.umap(adata,color='leiden')"
   ]
  },
  {
   "cell_type": "code",
   "execution_count": null,
   "id": "7d36b457-1f21-4a6d-89bb-d644bea96dc7",
   "metadata": {},
   "outputs": [],
   "source": [
    "markers = {'Basal':['KRT5', 'KRT14', 'KRT17', 'EGFR', 'TP63', 'CDH3'],\n",
    "'LumA':['ESR1', 'PGR', 'GATA3', 'FOXA1', 'BCL2', 'MLPH'],\n",
    "'LumB':['ESR1', 'PGR', 'MKI67', 'CCNB1', 'MYBL2', 'CDC20', 'BIRC5'],\n",
    "'Her2+':['ERBB2', 'GRB7', 'FGFR4', 'CDK12', 'TIMP1', 'PPP1R1B'],\n",
    "'Normal-like':['TP63', 'MMP14', 'VIM', 'CD24', 'KRT18', 'KRT19', 'FABP4', 'ADH1B']}\n"
   ]
  },
  {
   "cell_type": "code",
   "execution_count": null,
   "id": "fd754d52-5c89-4bef-82e4-ec936bebc13b",
   "metadata": {},
   "outputs": [],
   "source": [
    "for k,v in markers.items():\n",
    "    sc.tl.score_genes(adata, gene_list=v, score_name=k)"
   ]
  },
  {
   "cell_type": "code",
   "execution_count": null,
   "id": "274c726d-23dd-4ba5-b651-0757419956f1",
   "metadata": {},
   "outputs": [],
   "source": [
    "sc.pl.umap(adata, color=list(markers.keys())+['pam50 subtype', 'leiden','nhg'])"
   ]
  },
  {
   "cell_type": "code",
   "execution_count": null,
   "id": "80c2b9d7-c580-4d2b-bd35-1033713fd35f",
   "metadata": {},
   "outputs": [],
   "source": []
  },
  {
   "cell_type": "code",
   "execution_count": null,
   "id": "287662f9-d080-44d0-8091-df129e8d213d",
   "metadata": {},
   "outputs": [],
   "source": []
  },
  {
   "cell_type": "code",
   "execution_count": null,
   "id": "cc1a0595-c582-4fca-8af0-1ce14bbcfd87",
   "metadata": {},
   "outputs": [],
   "source": []
  },
  {
   "cell_type": "code",
   "execution_count": null,
   "id": "4f2f366f-c645-4b44-9022-dc3e476cdc44",
   "metadata": {},
   "outputs": [],
   "source": []
  },
  {
   "cell_type": "code",
   "execution_count": null,
   "id": "1e2bc2a6-9928-488b-8267-0316941aae78",
   "metadata": {},
   "outputs": [],
   "source": [
    "sc.tl.rank_genes_groups(adata, groupby='leiden', method='wilcoxon')\n",
    "sc.tl.dendrogram(adata, groupby='leiden', use_rep='X_ae')"
   ]
  },
  {
   "cell_type": "code",
   "execution_count": null,
   "id": "517eee58-3d2d-42ae-8c29-ee02f4c8a9ef",
   "metadata": {},
   "outputs": [],
   "source": [
    "sc.pl.rank_genes_groups_matrixplot(\n",
    "    adata,\n",
    "    groupby='leiden',\n",
    "    dendrogram=True,\n",
    "    values_to_plot='scores',\n",
    "    standard_scale='group',\n",
    "    swap_axes=True\n",
    ")"
   ]
  },
  {
   "cell_type": "code",
   "execution_count": null,
   "id": "f14411e8-e03d-4674-9df5-9fdfb4c345db",
   "metadata": {},
   "outputs": [],
   "source": []
  },
  {
   "cell_type": "code",
   "execution_count": null,
   "id": "d66f3f2c-964f-44ce-b1fe-2740a2957db8",
   "metadata": {},
   "outputs": [],
   "source": []
  }
 ],
 "metadata": {
  "kernelspec": {
   "display_name": "Python 3 (ipykernel)",
   "language": "python",
   "name": "python3"
  },
  "language_info": {
   "codemirror_mode": {
    "name": "ipython",
    "version": 3
   },
   "file_extension": ".py",
   "mimetype": "text/x-python",
   "name": "python",
   "nbconvert_exporter": "python",
   "pygments_lexer": "ipython3",
   "version": "3.10.11"
  }
 },
 "nbformat": 4,
 "nbformat_minor": 5
}
