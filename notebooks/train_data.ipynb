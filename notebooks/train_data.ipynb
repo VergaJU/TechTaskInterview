{
 "cells": [
  {
   "cell_type": "code",
   "execution_count": 32,
   "id": "1e5a45b8-cd22-4c16-a5a2-4ea4f204812d",
   "metadata": {},
   "outputs": [],
   "source": [
    "import pandas as pd\n",
    "import numpy\n",
    "import scanpy as sc\n",
    "from sklearn.preprocessing import StandardScaler\n",
    "import torch\n",
    "import pickle"
   ]
  },
  {
   "cell_type": "code",
   "execution_count": 2,
   "id": "ce7a8a78-63a6-4fa1-bdd0-832beeee03e2",
   "metadata": {},
   "outputs": [],
   "source": [
    "adata = sc.read('Data/dataset_annotated.h5ad')"
   ]
  },
  {
   "cell_type": "code",
   "execution_count": 3,
   "id": "16cc9a57-9ec0-4f34-bd4c-08050c2cc95b",
   "metadata": {},
   "outputs": [
    {
     "name": "stderr",
     "output_type": "stream",
     "text": [
      "/opt/conda/lib/python3.10/site-packages/scanpy/preprocessing/_highly_variable_genes.py:305: RuntimeWarning: invalid value encountered in log\n",
      "  dispersion = np.log(dispersion)\n"
     ]
    }
   ],
   "source": [
    "sc.pp.highly_variable_genes(adata, n_top_genes=5000) "
   ]
  },
  {
   "cell_type": "code",
   "execution_count": 4,
   "id": "5528a10f-b4e3-4c6c-9b90-920317f09757",
   "metadata": {},
   "outputs": [],
   "source": [
    "adata_subset = adata[:, adata.var['highly_variable']].copy()"
   ]
  },
  {
   "cell_type": "code",
   "execution_count": 5,
   "id": "e2a8ee40-7b85-4c2e-8d73-4d23bbbf213f",
   "metadata": {},
   "outputs": [
    {
     "data": {
      "text/plain": [
       "AnnData object with n_obs × n_vars = 3273 × 5000\n",
       "    obs: 'scan-b external id', 'instrument model', 'age at diagnosis', 'tumor size', 'lymph node group', 'lymph node status', 'er status', 'pgr status', 'her2 status', 'ki67 status', 'nhg', 'er prediction mgc', 'pgr prediction mgc', 'her2 prediction mgc', 'ki67 prediction mgc', 'nhg prediction mgc', 'er prediction sgc', 'pgr prediction sgc', 'her2 prediction sgc', 'ki67 prediction sgc', 'pam50 subtype', 'overall survival days', 'overall survival event', 'endocrine treated', 'chemo treated', 'leiden', 'cluster_names', 'grade', 'classification'\n",
       "    var: 'highly_variable', 'means', 'dispersions', 'dispersions_norm', 'highly_variable_nbatches', 'highly_variable_intersection'\n",
       "    uns: 'age at diagnosis_colors', 'classification_colors', 'cluster_names_colors', 'er status_colors', 'grade_colors', 'her2 status_colors', 'hvg', 'instrument model_colors', 'ki67 status_colors', 'leiden', 'lymph node group_colors', 'lymph node status_colors', 'neighbors', 'nhg_colors', 'pam50 subtype_colors', 'pca', 'pgr status_colors', 'umap'\n",
       "    obsm: 'X_pca', 'X_umap'\n",
       "    varm: 'PCs'\n",
       "    obsp: 'connectivities', 'distances'"
      ]
     },
     "execution_count": 5,
     "metadata": {},
     "output_type": "execute_result"
    }
   ],
   "source": [
    "adata_subset"
   ]
  },
  {
   "cell_type": "code",
   "execution_count": 15,
   "id": "f61eee4b-7c21-4b7b-9d86-7f609b2a9e48",
   "metadata": {},
   "outputs": [],
   "source": [
    "df=sc.get.obs_df(adata_subset, keys=adata_subset.var_names.tolist())"
   ]
  },
  {
   "cell_type": "code",
   "execution_count": 16,
   "id": "ac0e6eaa-054c-440f-9e33-be2bae4e66ba",
   "metadata": {},
   "outputs": [],
   "source": [
    "ss=StandardScaler()"
   ]
  },
  {
   "cell_type": "code",
   "execution_count": 18,
   "id": "c8a96777-65d9-41ad-84b8-31cf8d04d57c",
   "metadata": {},
   "outputs": [],
   "source": [
    "train_data = ss.fit_transform(df)"
   ]
  },
  {
   "cell_type": "code",
   "execution_count": 23,
   "id": "a0f2b5d0-f41d-4dbf-9561-ad9acb077571",
   "metadata": {},
   "outputs": [],
   "source": [
    "train_df=pd.DataFrame(train_data, index=df.index, columns=df.columns)"
   ]
  },
  {
   "cell_type": "code",
   "execution_count": 28,
   "id": "771d853c-0886-4c01-88b8-6934dc090673",
   "metadata": {},
   "outputs": [
    {
     "name": "stdout",
     "output_type": "stream",
     "text": [
      "Splitting data into train and validation sets...\n",
      "Input dimension (number of genes): 5000\n",
      "Training samples: 2782, Validation samples: 491\n"
     ]
    }
   ],
   "source": [
    "# 3. Train/Validation Split\n",
    "print(\"Splitting data into train and validation sets...\")\n",
    "X_train, X_val = train_test_split(train_data, test_size=0.15, random_state=42) # 15% for validation\n",
    "input_dim = X_train.shape[1]\n",
    "n_samples_train = X_train.shape[0]\n",
    "n_samples_val = X_val.shape[0]\n",
    "\n",
    "print(f\"Input dimension (number of genes): {input_dim}\")\n",
    "print(f\"Training samples: {n_samples_train}, Validation samples: {n_samples_val}\")\n",
    "\n",
    "# Convert to PyTorch tensors\n",
    "X_train_tensor = torch.FloatTensor(X_train)\n",
    "X_val_tensor = torch.FloatTensor(X_val)\n"
   ]
  },
  {
   "cell_type": "code",
   "execution_count": 30,
   "id": "61ac9fee-ee1e-4d92-9187-d34f43734a85",
   "metadata": {},
   "outputs": [],
   "source": [
    "files={\n",
    "    'full_dataset':train_df,\n",
    "    'X_train':X_train,\n",
    "    'X_val':X_val,\n",
    "    'input_dim':input_dim,\n",
    "    'n_samples_train':n_samples_train,\n",
    "    'n_samples_val':n_samples_val,\n",
    "    'X_train_tensor':X_train_tensor,\n",
    "    'X_val_tensor':X_val_tensor\n",
    "    \n",
    "}"
   ]
  },
  {
   "cell_type": "code",
   "execution_count": 33,
   "id": "b9983dc2-5430-43cb-bcf6-0fc6e84babee",
   "metadata": {},
   "outputs": [],
   "source": [
    "with open('Data/training_data.pkl', \"wb\") as f:\n",
    "    pickle.dump(files, f)"
   ]
  },
  {
   "cell_type": "code",
   "execution_count": null,
   "id": "e34bcc7f-dc6e-44bc-ab57-4977aaf462ca",
   "metadata": {},
   "outputs": [],
   "source": []
  }
 ],
 "metadata": {
  "kernelspec": {
   "display_name": "Python 3 (ipykernel)",
   "language": "python",
   "name": "python3"
  },
  "language_info": {
   "codemirror_mode": {
    "name": "ipython",
    "version": 3
   },
   "file_extension": ".py",
   "mimetype": "text/x-python",
   "name": "python",
   "nbconvert_exporter": "python",
   "pygments_lexer": "ipython3",
   "version": "3.10.11"
  }
 },
 "nbformat": 4,
 "nbformat_minor": 5
}
