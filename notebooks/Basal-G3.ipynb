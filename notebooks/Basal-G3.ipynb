{
 "cells": [
  {
   "cell_type": "code",
   "execution_count": null,
   "id": "d4c2ded4-c800-49f7-bf02-a5975b767c82",
   "metadata": {},
   "outputs": [],
   "source": [
    "import scanpy as sc\n",
    "import pandas as pd\n",
    "import numpy as np\n",
    "import matplotlib.pyplot as plt\n",
    "import seaborn as sns\n",
    "from IPython.display import display, Markdown, HTML\n",
    "import gseapy as gp\n",
    "from gseapy import Msigdb\n",
    "from gseapy import GSEA\n",
    "from gseapy import dotplot\n",
    "import warnings\n",
    "warnings.filterwarnings('ignore')"
   ]
  },
  {
   "cell_type": "code",
   "execution_count": null,
   "id": "e856394d-23c5-4334-a015-91a2fd0fb25e",
   "metadata": {},
   "outputs": [],
   "source": [
    "adata = sc.read('../Data/dataset_annotated.h5ad')\n",
    "violin_plot = ['classification','Basal', 'LumA', 'LumB', 'Her2', 'Normal']\n",
    "cluster='Basal-G3'\n",
    "score='Basal'"
   ]
  },
  {
   "cell_type": "code",
   "execution_count": null,
   "id": "4ef62f34-796d-4266-bd26-2c2e0ea23578",
   "metadata": {},
   "outputs": [],
   "source": [
    "msig = Msigdb()\n",
    "gmt = msig.get_gmt(category='h.all', dbver=\"2025.1.Hs\")\n",
    "\n",
    "def plot_bars(tmp, ax):\n",
    "    col1_props = tmp['pam50 subtype'].value_counts(normalize=True)\n",
    "    col2_props = tmp['nhg'].value_counts(normalize=True)\n",
    "    proportions = pd.concat([col1_props, col2_props], axis=1, keys=['pam50 subtype', 'nhg']).fillna(0)\n",
    "    proportions.T.plot(\n",
    "        kind='bar',\n",
    "        stacked=True,\n",
    "        colormap='tab20',\n",
    "        edgecolor='black',\n",
    "        ax=ax\n",
    "    )\n",
    "\n",
    "    ax.legend()\n",
    "    ax.tick_params(rotation=0)\n",
    "    ax.set_ylabel('Proportion')\n",
    "    ax.set_title('PAM50 & NHG proportions')\n",
    "    return ax, proportions\n",
    "\n",
    "\n",
    "def plot_violin(tmp,ax):\n",
    "    ax=sns.violinplot(tmp,ax=ax)\n",
    "    ax.tick_params(rotation=45)\n",
    "    ax.set_title('PAM50 scoring')\n",
    "    return ax\n",
    "\n",
    "def pathways(cluster,ax):\n",
    "    expr = sc.get.rank_genes_groups_df(adata, group=cluster)[['names','scores']]\n",
    "    expr.columns = ['gene_name', 'score'] \n",
    "    pre_res = gp.prerank(\n",
    "        rnk=expr,  # DataFrame or path to .rnk file\n",
    "        gene_sets=gmt,  # Or 'KEGG_2021_Human', 'Reactome_2022', etc.\n",
    "        permutation_num=1000,  # recommended ≥1000\n",
    "        seed=42,\n",
    "        processes=4  # parallelization\n",
    "    )\n",
    "\n",
    "    ax = dotplot(pre_res.res2d,\n",
    "             column=\"FDR q-val\",\n",
    "             cmap=plt.cm.viridis,\n",
    "             size=4, # adjust dot size\n",
    "             cutoff=0.25, show_ring=False,ax=ax)\n",
    "    return ax, pre_res.res2d\n"
   ]
  },
  {
   "cell_type": "code",
   "execution_count": null,
   "id": "2f3fd36a-0c17-4202-af76-089059d4b82c",
   "metadata": {},
   "outputs": [],
   "source": [
    "Markdown(f\"\"\"\n",
    "# Cluster {cluster}\"\"\")"
   ]
  },
  {
   "cell_type": "code",
   "execution_count": null,
   "id": "f997053a-f8dd-4e2f-be30-2aa8edf9bb6c",
   "metadata": {},
   "outputs": [],
   "source": [
    "fig,axes= plt.subplots(1,2, figsize=(12,5))\n",
    "sc.pl.umap(adata, color=score,ax=axes[0], show=False)\n",
    "axes[0].set_title(f\"{score} - score\")\n",
    "sc.pl.umap(adata, color='classification',ax=axes[1], show=False)\n",
    "axes[1].set_title('Clusters')\n",
    "plt.show()\n"
   ]
  },
  {
   "cell_type": "markdown",
   "id": "b0e0d59f-39dd-4fa2-b15b-0ab565443efb",
   "metadata": {},
   "source": [
    "Figure 1: UMAP Visualization of Breast Cancer Samples Colored by Basal Score and Assigned Clusters.\n",
    "\n",
    "This figure displays the dimensionality reduction of the breast cancer RNA-Seq samples (same cohort as previously analyzed) using Uniform Manifold Approximation and Projection (UMAP). Each point in the plots represents an individual sample.\n",
    "\n",
    "- Left panel: The UMAP space is colored based on a calculated Basal score for each sample. This score was derived from the expression levels of specific genes from the PAM50 panel known to have high centroid values for the Basal subtype. The color bar indicates the range of the score, where samples with higher Basal scores are depicted in yellow/green, and samples with lower scores are in purple/blue.\n",
    "\n",
    "- Right panel: The same UMAP space is shown, with samples colored according to their assigned cluster. These clusters were previously identified based on the analysis and represent different breast cancer subtypes combined with Nottingham Histologic Grade (G2 or G3): Basal-G3, Her2-G2, Her2-G3, LumA-G2, LumB-G3, and Normal-G2, as indicated by the legend.\n",
    "\n",
    "Interpretation: The UMAP projection effectively separates the samples into distinct regions. The spatial distribution of samples with high Basal scores (left panel) strongly coincides with the region primarily occupied by samples assigned to the Basal-G3 cluster (right panel). This visual alignment demonstrates that the calculated Basal score accurately reflects the molecular characteristics distinguishing the Basal subtype and confirms that the clustering approach successfully identified this specific group, particularly those with a Grade 3 histology."
   ]
  },
  {
   "cell_type": "code",
   "execution_count": null,
   "id": "3d14a6f6-490b-4ffc-a4db-7a13ace2ecef",
   "metadata": {},
   "outputs": [],
   "source": [
    "vln = sc.get.obs_df(adata, keys=violin_plot)\n",
    "vln=vln[vln['classification']==cluster]\n",
    "prop=sc.get.obs_df(adata, keys=['classification','pam50 subtype','nhg'])\n",
    "prop=prop[prop['classification']==cluster]\n",
    "\n",
    "\n",
    "fig,axes=plt.subplots(1,2, figsize=(12,5))\n",
    "axes[0]=plot_violin(vln,axes[0])\n",
    "axes[1],prop=plot_bars(prop,axes[1])\n",
    "plt.show()"
   ]
  },
  {
   "cell_type": "code",
   "execution_count": null,
   "id": "75e799fc-4a9e-4b68-b880-2e8407c9004b",
   "metadata": {},
   "outputs": [],
   "source": [
    "Markdown(f\"\"\"\n",
    "\n",
    "### PAM50 scoring - {cluster}\n",
    "\n",
    "{vln.describe().to_html()}\n",
    "\n",
    "### PAM50 & NHG proportions {cluster}\n",
    "\n",
    "{prop.to_html()}\n",
    "\"\"\")"
   ]
  },
  {
   "cell_type": "markdown",
   "id": "13d2a3eb-c9c0-434b-91f2-4a32dd97f859",
   "metadata": {},
   "source": [
    "Figure 2: Molecular and Histological Characterization of the Basal-G3 Cluster.\n",
    "\n",
    "This figure provides a detailed characterization of the samples assigned to the Basal-G3 cluster (n=302) based on PAM50 subtype scoring and clinical Nottingham Histological Grade (NHG).\n",
    "\n",
    "- Left panel: Violin plots displaying the distribution of PAM50 centroid scores for the samples within the Basal-G3 cluster. Each violin shows how strongly these samples score against the average gene expression profile (centroid) of each of the five intrinsic PAM50 subtypes (Basal-like, Luminal A, Luminal B, Her2-enriched, and Normal-like). The width of the violin indicates the density distribution of scores, while the embedded box plot shows the median and interquartile range. The Y-axis represents the PAM50 score, reflecting the molecular similarity of the Basal-G3 samples to each respective subtype centroid.\n",
    "\n",
    "- Right panel: Stacked bar plots illustrating the proportions of samples within the Basal-G3 cluster according to their PAM50 molecular subtype assignment (left bar) and their Nottingham Histological Grade (NHG; right bar), based on clinical metadata. The height of each colored segment represents the fraction of samples within this cluster belonging to that specific category.\n",
    "\n",
    "Interpretation: The violin plots on the left confirm the strong molecular signature of the Basal-G3 cluster. Samples within this cluster show overwhelmingly high scores for the Basal centroid and correspondingly low scores for the Luminal A and Luminal B centroids. This molecular profile is consistent with their assignment to the Basal subtype. The stacked bar plots on the right further validate the cluster definition: the vast majority (97.0%) of samples within this cluster are classified as Basal by PAM50, and a high proportion (91.4%) are assigned Histological Grade 3. This figure confirms that the Basal-G3 cluster is molecularly defined by a strong Basal signature and clinically characterized by high-grade histology."
   ]
  },
  {
   "cell_type": "code",
   "execution_count": null,
   "id": "573feb51-ad2c-4d02-9e35-74068df8a783",
   "metadata": {},
   "outputs": [],
   "source": [
    "fig,axes=plt.subplots(1,1, figsize=(12,5))\n",
    "axes,res=pathways(cluster,axes)\n",
    "axes.set_title('GSEA')\n",
    "# axes[1],prop=plot_bars(prop,axes[1])\n",
    "plt.show()"
   ]
  },
  {
   "cell_type": "code",
   "execution_count": null,
   "id": "c9654715-3171-414e-87c6-a5cc2aae82d1",
   "metadata": {},
   "outputs": [],
   "source": [
    "Markdown(f\"\"\"\n",
    "\n",
    "### GSEA - {cluster}\n",
    "\n",
    "{res[res['FDR q-val']<0.05].iloc[:,:-1].to_html()}\n",
    "\n",
    "\"\"\")\n",
    "\n",
    "\n"
   ]
  },
  {
   "cell_type": "markdown",
   "id": "36241135-65b0-44a3-baa6-e90444607d62",
   "metadata": {},
   "source": [
    "Figure 3: Gene Set Enrichment Analysis (GSEA) Reveals Enriched Biological Pathways in the Basal-G3 Cluster.\n",
    "\n",
    "This bubble plot displays the results of Gene Set Enrichment Analysis (GSEA) comparing gene expression profiles of samples within the Basal-G3 cluster against all other samples in the cohort. The plot highlights the top significantly enriched Hallmark gene sets from the Molecular Signatures Database (MSigDB).\n",
    "\n",
    "- X-axis (NES): Normalized Enrichment Score. A positive NES indicates significant enrichment and predominantly upregulated gene expression of the pathway in the Basal-G3 cluster compared to other samples. A negative NES indicates significant enrichment and downregulation in the Basal-G3 cluster relative to other samples (or upregulation in other samples).\n",
    "\n",
    "- Y-axis: The names of the significantly enriched Hallmark gene sets.\n",
    "\n",
    "- Bubble Size: Represents the percentage of genes within the gene set that are part of the leading edge, i.e., the genes that contribute most to the enrichment score. Larger bubbles signify that a larger proportion of the gene set members are driving the observed enrichment.\n",
    "\n",
    "- Bubble Color: Indicates the statistical significance of the enrichment result, specifically represented by log10(1/FDR). Higher values (more yellow/green colors) correspond to smaller False Discovery Rate (FDR) q-values, denoting higher statistical confidence in the enrichment.\n",
    "\n",
    "Interpretation: The GSEA identifies several key biological pathways significantly enriched in the Basal-G3 cluster. Consistent with the highly proliferative nature and high histological grade (G3) characteristic of many Basal-like breast cancers, pathways related to cell cycle progression and proliferation such as HALLMARK_E2F_TARGETS, HALLMARK_G2M_CHECKPOINT, and HALLMARK_MITOTIC_SPINDLE are among the most highly positively enriched. Pathways associated with immune and inflammatory responses, including HALLMARK_INTERFERON_GAMMA_RESPONSE, HALLMARK_ALLOGRAFT_REJECTION, HALLMARK_INTERFERON_ALPHA_RESPONSE, HALLMARK_INFLAMMATORY_RESPONSE, and HALLMARK_IL6_JAK_STAT3_SIGNALING, also show significant positive enrichment, suggesting increased immune activity in this cluster. Additionally, HALLMARK_MYC_TARGETS (V1 and V2) and HALLMARK_MTORC1_SIGNALING are positively enriched, reflecting activated oncogenic signaling. In contrast, HALLMARK_ESTROGEN_RESPONSE_EARLY is significantly negatively enriched, consistent with the hormone receptor-negative status typical of Basal-like breast cancers. All shown gene sets are highly statistically significant with very low FDR q-values."
   ]
  }
 ],
 "metadata": {
  "kernelspec": {
   "display_name": "Python 3 (ipykernel)",
   "language": "python",
   "name": "python3"
  },
  "language_info": {
   "codemirror_mode": {
    "name": "ipython",
    "version": 3
   },
   "file_extension": ".py",
   "mimetype": "text/x-python",
   "name": "python",
   "nbconvert_exporter": "python",
   "pygments_lexer": "ipython3",
   "version": "3.12.3"
  }
 },
 "nbformat": 4,
 "nbformat_minor": 5
}
