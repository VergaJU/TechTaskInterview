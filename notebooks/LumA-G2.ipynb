{
 "cells": [
  {
   "cell_type": "code",
   "execution_count": null,
   "id": "d4c2ded4-c800-49f7-bf02-a5975b767c82",
   "metadata": {},
   "outputs": [],
   "source": [
    "import scanpy as sc\n",
    "import pandas as pd\n",
    "import numpy as np\n",
    "import matplotlib.pyplot as plt\n",
    "import seaborn as sns\n",
    "from IPython.display import display, Markdown, HTML\n",
    "import gseapy as gp\n",
    "from gseapy import Msigdb\n",
    "from gseapy import GSEA\n",
    "from gseapy import dotplot\n",
    "import warnings\n",
    "warnings.filterwarnings('ignore')"
   ]
  },
  {
   "cell_type": "code",
   "execution_count": null,
   "id": "e856394d-23c5-4334-a015-91a2fd0fb25e",
   "metadata": {},
   "outputs": [],
   "source": [
    "adata = sc.read('../Data/dataset_annotated.h5ad')\n",
    "violin_plot = ['classification','Basal', 'LumA', 'LumB', 'Her2', 'Normal']\n",
    "cluster='LumA-G2'"
   ]
  },
  {
   "cell_type": "code",
   "execution_count": null,
   "id": "4ef62f34-796d-4266-bd26-2c2e0ea23578",
   "metadata": {},
   "outputs": [],
   "source": [
    "msig = Msigdb()\n",
    "gmt = msig.get_gmt(category='h.all', dbver=\"2025.1.Hs\")\n",
    "\n",
    "def plot_bars(tmp, ax):\n",
    "    col1_props = tmp['pam50 subtype'].value_counts(normalize=True)\n",
    "    col2_props = tmp['nhg'].value_counts(normalize=True)\n",
    "    proportions = pd.concat([col1_props, col2_props], axis=1, keys=['pam50 subtype', 'nhg']).fillna(0)\n",
    "    proportions.T.plot(\n",
    "        kind='bar',\n",
    "        stacked=True,\n",
    "        colormap='tab20',\n",
    "        edgecolor='black',\n",
    "        ax=ax\n",
    "    )\n",
    "\n",
    "    ax.legend()\n",
    "    ax.tick_params(rotation=0)\n",
    "    ax.set_ylabel('Proportion')\n",
    "    ax.set_title('PAM50 & NHG proportions')\n",
    "    return ax, proportions\n",
    "\n",
    "\n",
    "def plot_violin(tmp,ax):\n",
    "    ax=sns.violinplot(tmp,ax=ax)\n",
    "    ax.tick_params(rotation=45)\n",
    "    ax.set_title('PAM50 scoring')\n",
    "    return ax\n",
    "\n",
    "def pathways(cluster,ax):\n",
    "    expr = sc.get.rank_genes_groups_df(adata, group=cluster)[['names','scores']]\n",
    "    expr.columns = ['gene_name', 'score'] \n",
    "    pre_res = gp.prerank(\n",
    "        rnk=expr,  # DataFrame or path to .rnk file\n",
    "        gene_sets=gmt,  # Or 'KEGG_2021_Human', 'Reactome_2022', etc.\n",
    "        permutation_num=1000,  # recommended ≥1000\n",
    "        seed=42,\n",
    "        processes=4  # parallelization\n",
    "    )\n",
    "\n",
    "    ax = dotplot(pre_res.res2d,\n",
    "             column=\"FDR q-val\",\n",
    "             cmap=plt.cm.viridis,\n",
    "             size=4, # adjust dot size\n",
    "             cutoff=0.25, show_ring=False,ax=ax)\n",
    "    return ax, pre_res.res2d\n"
   ]
  },
  {
   "cell_type": "code",
   "execution_count": null,
   "id": "2f3fd36a-0c17-4202-af76-089059d4b82c",
   "metadata": {},
   "outputs": [],
   "source": [
    "Markdown(f\"\"\"\n",
    "# Cluster {cluster}\"\"\")"
   ]
  },
  {
   "cell_type": "code",
   "execution_count": null,
   "id": "f997053a-f8dd-4e2f-be30-2aa8edf9bb6c",
   "metadata": {},
   "outputs": [],
   "source": [
    "fig,axes= plt.subplots(1,2, figsize=(12,5))\n",
    "sc.pl.umap(adata, color='LumA',ax=axes[0], show=False)\n",
    "axes[0].set_title('Luminal A - score')\n",
    "sc.pl.umap(adata, color='classification',ax=axes[1], show=False)\n",
    "axes[1].set_title('Clusters')\n",
    "plt.show()\n"
   ]
  },
  {
   "cell_type": "markdown",
   "id": "b0e0d59f-39dd-4fa2-b15b-0ab565443efb",
   "metadata": {},
   "source": [
    "Figure 1: UMAP Visualization of Breast Cancer Samples Colored by Luminal A Score and Assigned Clusters.\n",
    "\n",
    "This figure displays the dimensionality reduction of breast cancer RNA-Seq samples using Uniform Manifold Approximation and Projection (UMAP). Each point in the plots represents an individual sample.\n",
    "\n",
    "- Left panel: The UMAP space is colored based on a calculated Luminal A score for each sample. This score was derived from the expression levels of 10 genes from the PAM50 panel known to have high centroid values for the Luminal A subtype. The color bar indicates the range of the score, where samples with higher Luminal A scores are depicted in yellow/green, and samples with lower scores are in purple/blue.\n",
    "- Right panel: The same UMAP space is shown, with samples colored according to their assigned cluster. These clusters were identified based on the analysis and represent different breast cancer subtypes combined with Nottingham Histologic Grade (G2 or G3): Basal-G3, Her2-G2, Her2-G3, LumA-G2, LumB-G3, and Normal-G2, as indicated by the legend.\n",
    "\n",
    "Interpretation: The UMAP projection successfully separates the samples into visually distinct regions corresponding to the different assigned clusters/subtypes. Notably, the spatial distribution of samples with high Luminal A scores (left panel) strongly aligns with the region occupied by the LumA-G2 cluster (right panel). This indicates that the calculated Luminal A score effectively captures the molecular characteristics defining the Luminal A subtype, differentiating it from other subtypes like Basal and Her2 which show significantly lower Luminal A scores in their respective regions of the UMAP space."
   ]
  },
  {
   "cell_type": "code",
   "execution_count": null,
   "id": "3d14a6f6-490b-4ffc-a4db-7a13ace2ecef",
   "metadata": {},
   "outputs": [],
   "source": [
    "vln = sc.get.obs_df(adata, keys=violin_plot)\n",
    "vln=vln[vln['classification']==cluster]\n",
    "prop=sc.get.obs_df(adata, keys=['classification','pam50 subtype','nhg'])\n",
    "prop=prop[prop['classification']==cluster]\n",
    "\n",
    "\n",
    "fig,axes=plt.subplots(1,2, figsize=(12,5))\n",
    "axes[0]=plot_violin(vln,axes[0])\n",
    "axes[1],prop=plot_bars(prop,axes[1])\n",
    "plt.show()"
   ]
  },
  {
   "cell_type": "code",
   "execution_count": null,
   "id": "75e799fc-4a9e-4b68-b880-2e8407c9004b",
   "metadata": {},
   "outputs": [],
   "source": [
    "Markdown(f\"\"\"\n",
    "\n",
    "### PAM50 scoring - {cluster}\n",
    "\n",
    "{vln.describe().to_html()}\n",
    "\n",
    "### PAM50 & NHG proportions {cluster}\n",
    "\n",
    "{prop.to_html()}\n",
    "\"\"\")"
   ]
  },
  {
   "cell_type": "markdown",
   "id": "13d2a3eb-c9c0-434b-91f2-4a32dd97f859",
   "metadata": {},
   "source": [
    "Figure 2: PAM50 Subtype Score Distributions and Overall Proportions of PAM50 Subtypes and NHG Grades in the Full Breast Cancer Cohort.\n",
    "\n",
    "This figure provides an overview of the molecular and histological characteristics of the entire breast cancer sample cohort (n=1176) analyzed.\n",
    "\n",
    "- Left panel: Violin plots illustrating the distribution of calculated PAM50 centroid scores for each of the five intrinsic molecular subtypes (Basal-like, Luminal A, Luminal B, Her2-enriched, and Normal-like). Each violin shape represents the density of samples across the range of scores for that subtype, indicating where most samples fall within the scoring spectrum. Embedded box plots summarize the median and interquartile range of scores for each subtype. The Y-axis represents the PAM50 score, reflecting the similarity of a sample's expression profile to the average profile (centroid) of samples representative of that specific subtype.\n",
    "\n",
    "- Right panel: Stacked bar plots showing the overall proportion of samples classified by PAM50 intrinsic subtype (left bar) and by Nottingham Histological Grade (NHG; right bar), based on clinical metadata. The legend specifies the color assigned to each subtype and grade category. This plot visualizes the prevalence of different molecular subtypes and histological grades within the entire cohort.\n",
    "\n",
    "Interpretation: The violin plots demonstrate that the PAM50 scoring system effectively differentiates samples based on their subtype-specific gene expression patterns, with distinct score distributions observed for each group. The stacked bar plots reveal the overall composition of the  LumA-G2, highlighting the relative frequency of each PAM50 subtype (with Luminal A being the most common) and NHG grade (with G2 being the most prevalent grade). This figure provides essential context regarding the molecular and histological heterogeneity present in the  LumA-G2 cluster, which underlies the distinct clusters like LumA-G2 identified in the dimensionality reduction analysis (Figure 1)."
   ]
  },
  {
   "cell_type": "code",
   "execution_count": null,
   "id": "573feb51-ad2c-4d02-9e35-74068df8a783",
   "metadata": {},
   "outputs": [],
   "source": [
    "fig,axes=plt.subplots(1,1, figsize=(12,5))\n",
    "axes,res=pathways(cluster,axes)\n",
    "axes.set_title('GSEA')\n",
    "# axes[1],prop=plot_bars(prop,axes[1])\n",
    "plt.show()"
   ]
  },
  {
   "cell_type": "code",
   "execution_count": null,
   "id": "c9654715-3171-414e-87c6-a5cc2aae82d1",
   "metadata": {},
   "outputs": [],
   "source": [
    "Markdown(f\"\"\"\n",
    "\n",
    "### GSEA - {cluster}\n",
    "\n",
    "{res[res['FDR q-val']<0.05].iloc[:,:-1].to_html()}\n",
    "\n",
    "\"\"\")\n",
    "\n",
    "\n"
   ]
  },
  {
   "cell_type": "markdown",
   "id": "f4d5710d-9ebb-4149-ba29-47c3f7577508",
   "metadata": {},
   "source": [
    "Figure 3: Gene Set Enrichment Analysis (GSEA) Highlighting Biological Pathways Characterizing the LumA-G2 Cluster.\n",
    "\n",
    "This bubble plot displays the results of Gene Set Enrichment Analysis (GSEA) comparing gene expression profiles of samples within the identified LumA-G2 cluster against all other samples in the cohort. The plot shows the top significantly enriched Hallmark gene sets from the Molecular Signatures Database (MSigDB).\n",
    "\n",
    "- X-axis (NES): Normalized Enrichment Score. A positive NES indicates that the gene set is significantly enriched and predominantly upregulated in the LumA-G2 cluster compared to the other samples. A negative NES indicates that the gene set is significantly enriched and predominantly upregulated in the other samples, or equivalently, downregulated in the LumA-G2 cluster.\n",
    "\n",
    "- Y-axis: The names of the significantly enriched Hallmark gene sets.\n",
    "\n",
    "- Bubble Size: Represents the percentage of genes within the gene set that contribute to the core enrichment (the \"leading edge\"). Larger bubbles indicate that a greater proportion of the gene set's members drive the observed enrichment.\n",
    "\n",
    "- Bubble Color: Represents the statistical significance of the enrichment, specifically the log10(1/FDR). Higher values (more yellow/green) correspond to lower False Discovery Rate (FDR) q-values, indicating higher confidence in the enrichment result.\n",
    "\n",
    "Interpretation: The GSEA reveals key biological processes that differentiate the LumA-G2 cluster. The most positively enriched pathway (highest positive NES) is HALLMARK_ESTROGEN_RESPONSE_EARLY, consistent with the known hormone receptor-positive nature of Luminal A breast cancers. Conversely, several pathways are significantly negatively enriched (downregulated) in the LumA-G2 cluster relative to other subtypes. These include pathways related to immune response (HALLMARK_INTERFERON_GAMMA_RESPONSE, HALLMARK_ALLOGRAFT_REJECTION, HALLMARK_INFLAMMATORY_RESPONSE, HALLMARK_TNFA_SIGNALING_VIA_NFKB, HALLMARK_COMPLEMENT), cell cycle and proliferation (HALLMARK_E2F_TARGETS, HALLMARK_G2M_CHECKPOINT), and signaling (HALLMARK_IL6_JAK_STAT3_SIGNALING). This pattern of high estrogen signaling coupled with lower immune/inflammatory and proliferative pathway activity supports the characterization of LumA-G2 as a less proliferative and perhaps less immune-infiltrated subtype compared to other breast cancer classes present in the dataset. All shown enrichments are highly statistically significant, indicated by the predominantly high log10(1/FDR) values (green/yellow colors) and very low FDR q-values (all 0.0 for the top entries based on your provided data)."
   ]
  }
 ],
 "metadata": {
  "kernelspec": {
   "display_name": "Python 3 (ipykernel)",
   "language": "python",
   "name": "python3"
  },
  "language_info": {
   "codemirror_mode": {
    "name": "ipython",
    "version": 3
   },
   "file_extension": ".py",
   "mimetype": "text/x-python",
   "name": "python",
   "nbconvert_exporter": "python",
   "pygments_lexer": "ipython3",
   "version": "3.12.3"
  }
 },
 "nbformat": 4,
 "nbformat_minor": 5
}
